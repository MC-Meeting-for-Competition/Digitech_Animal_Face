{
 "cells": [
  {
   "cell_type": "code",
   "execution_count": null,
   "id": "d408a769",
   "metadata": {},
   "outputs": [],
   "source": [
    "! pip install opencv-python torch torchvision"
   ]
  },
  {
   "cell_type": "code",
   "execution_count": 7,
   "id": "4dd2a90d",
   "metadata": {},
   "outputs": [
    {
     "name": "stdout",
     "output_type": "stream",
     "text": [
      "['cat', 'dog', 'fox', 'rabbit']\n"
     ]
    }
   ],
   "source": [
    "from torchvision import datasets, transforms\n",
    "from torch.utils.data import DataLoader\n",
    "\n",
    "transform = transforms.Compose([\n",
    "    transforms.Resize((64, 64)), # 이미지를 64 x 64 사이즈로\n",
    "    transforms.ToTensor() # 텐서화\n",
    "]) # 이미지 전처리\n",
    "\n",
    "train_data = datasets.ImageFolder(\"dataset\", transform=transform) # 동일 경로에 dataset 이라는 폴더에 접근\n",
    "train_loader = DataLoader(train_data, batch_size=2, shuffle=True)\n",
    "\n",
    "class_names = train_data.classes # 분류 클래스\n",
    "print(class_names)"
   ]
  },
  {
   "cell_type": "code",
   "execution_count": null,
   "id": "21577833",
   "metadata": {},
   "outputs": [],
   "source": []
  }
 ],
 "metadata": {
  "kernelspec": {
   "display_name": "py312_animal_face",
   "language": "python",
   "name": "py312_animal_face"
  },
  "language_info": {
   "codemirror_mode": {
    "name": "ipython",
    "version": 3
   },
   "file_extension": ".py",
   "mimetype": "text/x-python",
   "name": "python",
   "nbconvert_exporter": "python",
   "pygments_lexer": "ipython3",
   "version": "3.12.9"
  }
 },
 "nbformat": 4,
 "nbformat_minor": 5
}
